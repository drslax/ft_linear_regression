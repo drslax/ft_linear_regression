{
 "cells": [
  {
   "cell_type": "code",
   "execution_count": 1,
   "metadata": {},
   "outputs": [],
   "source": [
    "import pandas as pd\n",
    "import matplotlib.pyplot as plt"
   ]
  },
  {
   "cell_type": "code",
   "execution_count": 2,
   "metadata": {},
   "outputs": [],
   "source": [
    "df = pd.read_csv(\"Data/data.csv\")"
   ]
  },
  {
   "cell_type": "code",
   "execution_count": 3,
   "metadata": {},
   "outputs": [
    {
     "data": {
      "text/html": [
       "<div>\n",
       "<style scoped>\n",
       "    .dataframe tbody tr th:only-of-type {\n",
       "        vertical-align: middle;\n",
       "    }\n",
       "\n",
       "    .dataframe tbody tr th {\n",
       "        vertical-align: top;\n",
       "    }\n",
       "\n",
       "    .dataframe thead th {\n",
       "        text-align: right;\n",
       "    }\n",
       "</style>\n",
       "<table border=\"1\" class=\"dataframe\">\n",
       "  <thead>\n",
       "    <tr style=\"text-align: right;\">\n",
       "      <th></th>\n",
       "      <th>km</th>\n",
       "      <th>price</th>\n",
       "    </tr>\n",
       "  </thead>\n",
       "  <tbody>\n",
       "    <tr>\n",
       "      <th>0</th>\n",
       "      <td>240000</td>\n",
       "      <td>3650</td>\n",
       "    </tr>\n",
       "    <tr>\n",
       "      <th>1</th>\n",
       "      <td>139800</td>\n",
       "      <td>3800</td>\n",
       "    </tr>\n",
       "    <tr>\n",
       "      <th>2</th>\n",
       "      <td>150500</td>\n",
       "      <td>4400</td>\n",
       "    </tr>\n",
       "    <tr>\n",
       "      <th>3</th>\n",
       "      <td>185530</td>\n",
       "      <td>4450</td>\n",
       "    </tr>\n",
       "    <tr>\n",
       "      <th>4</th>\n",
       "      <td>176000</td>\n",
       "      <td>5250</td>\n",
       "    </tr>\n",
       "    <tr>\n",
       "      <th>5</th>\n",
       "      <td>114800</td>\n",
       "      <td>5350</td>\n",
       "    </tr>\n",
       "    <tr>\n",
       "      <th>6</th>\n",
       "      <td>166800</td>\n",
       "      <td>5800</td>\n",
       "    </tr>\n",
       "    <tr>\n",
       "      <th>7</th>\n",
       "      <td>89000</td>\n",
       "      <td>5990</td>\n",
       "    </tr>\n",
       "    <tr>\n",
       "      <th>8</th>\n",
       "      <td>144500</td>\n",
       "      <td>5999</td>\n",
       "    </tr>\n",
       "    <tr>\n",
       "      <th>9</th>\n",
       "      <td>84000</td>\n",
       "      <td>6200</td>\n",
       "    </tr>\n",
       "    <tr>\n",
       "      <th>10</th>\n",
       "      <td>82029</td>\n",
       "      <td>6390</td>\n",
       "    </tr>\n",
       "    <tr>\n",
       "      <th>11</th>\n",
       "      <td>63060</td>\n",
       "      <td>6390</td>\n",
       "    </tr>\n",
       "    <tr>\n",
       "      <th>12</th>\n",
       "      <td>74000</td>\n",
       "      <td>6600</td>\n",
       "    </tr>\n",
       "    <tr>\n",
       "      <th>13</th>\n",
       "      <td>97500</td>\n",
       "      <td>6800</td>\n",
       "    </tr>\n",
       "    <tr>\n",
       "      <th>14</th>\n",
       "      <td>67000</td>\n",
       "      <td>6800</td>\n",
       "    </tr>\n",
       "    <tr>\n",
       "      <th>15</th>\n",
       "      <td>76025</td>\n",
       "      <td>6900</td>\n",
       "    </tr>\n",
       "    <tr>\n",
       "      <th>16</th>\n",
       "      <td>48235</td>\n",
       "      <td>6900</td>\n",
       "    </tr>\n",
       "    <tr>\n",
       "      <th>17</th>\n",
       "      <td>93000</td>\n",
       "      <td>6990</td>\n",
       "    </tr>\n",
       "    <tr>\n",
       "      <th>18</th>\n",
       "      <td>60949</td>\n",
       "      <td>7490</td>\n",
       "    </tr>\n",
       "    <tr>\n",
       "      <th>19</th>\n",
       "      <td>65674</td>\n",
       "      <td>7555</td>\n",
       "    </tr>\n",
       "    <tr>\n",
       "      <th>20</th>\n",
       "      <td>54000</td>\n",
       "      <td>7990</td>\n",
       "    </tr>\n",
       "    <tr>\n",
       "      <th>21</th>\n",
       "      <td>68500</td>\n",
       "      <td>7990</td>\n",
       "    </tr>\n",
       "    <tr>\n",
       "      <th>22</th>\n",
       "      <td>22899</td>\n",
       "      <td>7990</td>\n",
       "    </tr>\n",
       "    <tr>\n",
       "      <th>23</th>\n",
       "      <td>61789</td>\n",
       "      <td>8290</td>\n",
       "    </tr>\n",
       "  </tbody>\n",
       "</table>\n",
       "</div>"
      ],
      "text/plain": [
       "        km  price\n",
       "0   240000   3650\n",
       "1   139800   3800\n",
       "2   150500   4400\n",
       "3   185530   4450\n",
       "4   176000   5250\n",
       "5   114800   5350\n",
       "6   166800   5800\n",
       "7    89000   5990\n",
       "8   144500   5999\n",
       "9    84000   6200\n",
       "10   82029   6390\n",
       "11   63060   6390\n",
       "12   74000   6600\n",
       "13   97500   6800\n",
       "14   67000   6800\n",
       "15   76025   6900\n",
       "16   48235   6900\n",
       "17   93000   6990\n",
       "18   60949   7490\n",
       "19   65674   7555\n",
       "20   54000   7990\n",
       "21   68500   7990\n",
       "22   22899   7990\n",
       "23   61789   8290"
      ]
     },
     "execution_count": 3,
     "metadata": {},
     "output_type": "execute_result"
    }
   ],
   "source": [
    "df "
   ]
  },
  {
   "cell_type": "markdown",
   "metadata": {},
   "source": [
    "**df** : training set\n",
    "<br>\n",
    "**x(i)** : \"input\" variables (mileage in this example)\n",
    "<br>\n",
    "**y(i)** : \"Output\" or target variable that we are trying to predict (Price)\n",
    "<br>\n",
    "the pair **(x(i),y(i))** is called a training example\n",
    "<br>"
   ]
  },
  {
   "cell_type": "code",
   "execution_count": 7,
   "metadata": {},
   "outputs": [
    {
     "name": "stdout",
     "output_type": "stream",
     "text": [
      "[{\"km\":240000,\"price\":3650},{\"km\":139800,\"price\":3800},{\"km\":150500,\"price\":4400},{\"km\":185530,\"price\":4450},{\"km\":176000,\"price\":5250},{\"km\":114800,\"price\":5350},{\"km\":166800,\"price\":5800},{\"km\":89000,\"price\":5990},{\"km\":144500,\"price\":5999},{\"km\":84000,\"price\":6200},{\"km\":82029,\"price\":6390},{\"km\":63060,\"price\":6390},{\"km\":74000,\"price\":6600},{\"km\":97500,\"price\":6800},{\"km\":67000,\"price\":6800},{\"km\":76025,\"price\":6900},{\"km\":48235,\"price\":6900},{\"km\":93000,\"price\":6990},{\"km\":60949,\"price\":7490},{\"km\":65674,\"price\":7555},{\"km\":54000,\"price\":7990},{\"km\":68500,\"price\":7990},{\"km\":22899,\"price\":7990},{\"km\":61789,\"price\":8290}]\n"
     ]
    }
   ],
   "source": [
    "df.columns"
   ]
  },
  {
   "cell_type": "code",
   "execution_count": null,
   "metadata": {},
   "outputs": [],
   "source": [
    "ax = df.plot.scatter(x='km',\n",
    "                     y='price',\n",
    "                     c='DarkBlue')"
   ]
  },
  {
   "cell_type": "markdown",
   "metadata": {},
   "source": [
    "# Hypothesis"
   ]
  },
  {
   "cell_type": "markdown",
   "metadata": {},
   "source": [
    "Our goal is given a training set, to learn a function *h: X -> Y* so that h(x) is a predictor for the corresponding value of y.\n",
    "<br>\n",
    "**h(x)** : Hypothesis\n",
    "<br>\n",
    "**$θ_{i}$** : Parameters of the model\n",
    "<br>\n",
    "<center>h(x) = $θ_{0}$ + ($θ_{1}$ * x)<center>\n",
    "    "
   ]
  },
  {
   "cell_type": "markdown",
   "metadata": {},
   "source": [
    "# Cost Function"
   ]
  },
  {
   "cell_type": "markdown",
   "metadata": {},
   "source": [
    "We can measure the accuracy of our hypothesis function by using a cost function. This takes an average difference (actually a fancier version of an average) of all the results of the hypothesis with inputs from x's and the actual output y's.\n",
    "<br>\n",
    "\\begin{equation*}\n",
    "J(θ_0,θ_1) = \\frac{1}{2n} \\left( \\sum_{k=1}^n (h_θ(x_i) - y_i)^2 \\right)\n",
    "\\end{equation*}\n",
    "<br>\n",
    "**n** : Number of training examples"
   ]
  },
  {
   "cell_type": "markdown",
   "metadata": {},
   "source": [
    "# Gradient  Descent"
   ]
  },
  {
   "cell_type": "markdown",
   "metadata": {},
   "source": [
    "Have some function J(${θ_0}$,${θ_1}$)\n",
    "<br>\n",
    "Want min J(${θ_0}$,${θ_1}$)\n",
    "<h4>Outline :</h4>\n",
    "<br>\n",
    "<ul>\n",
    "  <li>Start with some ${θ_0}$,${θ_1}$</li>\n",
    "  <li>Keep changing ${θ_0}$,${θ_1}$ to reduce J(${θ_0}$,${θ_1}$) until we hopefully end up at a minimum</li>\n",
    "</ul> "
   ]
  },
  {
   "cell_type": "markdown",
   "metadata": {},
   "source": [
    "<h4>The gradient descent algorithm is:</h4>\n",
    "<br>\n",
    "repeat until convergence:  {\n",
    "\\begin{equation*}\n",
    "tmp_0 := θ_0 - α\\frac{\\partial}{\\partial θ_0}J(θ_0,θ_1)\n",
    "\\end{equation*}\n",
    "\\begin{equation*}\n",
    "tmp_1 := θ_1 - α\\frac{\\partial}{\\partial θ_1}J(θ_0,θ_1)\n",
    "\\end{equation*}\n",
    "<center>${θ_0}$ := ${tmp_0}$\n",
    "<br>\n",
    "${θ_1}$ := ${tmp_1}$</center>\n",
    "<br>\n",
    "}\n",
    "<br>\n",
    "\n",
    "**α** : Learning rate \n",
    "<br>\n",
    "if α is too small, gradient descent can be slow.\n",
    "<br>\n",
    "if α is too large, gradient descent can overshoot the minimum. it may fail to converge, or even diverge."
   ]
  },
  {
   "cell_type": "markdown",
   "metadata": {},
   "source": [
    "# Gradient Descent For Linear Regression"
   ]
  },
  {
   "cell_type": "markdown",
   "metadata": {},
   "source": [
    "<h4>The gradient descent algorithm for linear regression is:</h4>\n",
    "<br>\n",
    "repeat until convergence:  {\n",
    "\\begin{equation*}\n",
    "tmp_0 := θ_0 - α\\frac{1}{n} \\left( \\sum_{k=1}^n (h_θ(x_i) - y_i)\\right)\n",
    "\\end{equation*}\n",
    "\\begin{equation*}\n",
    "tmp_1 := θ_1 - α\\frac{1}{n} \\left( \\sum_{k=1}^n ((h_θ(x_i) - y_i)x_i)\\right)\n",
    "\\end{equation*}\n",
    "<center>${θ_0}$ := ${tmp_0}$\n",
    "<br>\n",
    "${θ_1}$ := ${tmp_1}$</center>\n",
    "<br>\n",
    "}\n",
    "<br>"
   ]
  },
  {
   "cell_type": "code",
   "execution_count": null,
   "metadata": {},
   "outputs": [],
   "source": []
  }
 ],
 "metadata": {
  "kernelspec": {
   "display_name": "Python 3",
   "language": "python",
   "name": "python3"
  },
  "language_info": {
   "codemirror_mode": {
    "name": "ipython",
    "version": 3
   },
   "file_extension": ".py",
   "mimetype": "text/x-python",
   "name": "python",
   "nbconvert_exporter": "python",
   "pygments_lexer": "ipython3",
   "version": "3.8.3"
  }
 },
 "nbformat": 4,
 "nbformat_minor": 4
}
